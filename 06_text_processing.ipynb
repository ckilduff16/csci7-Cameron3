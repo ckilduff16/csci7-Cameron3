{
 "cells": [
  {
   "cell_type": "markdown",
   "metadata": {
    "slideshow": {
     "slide_type": "slide"
    }
   },
   "source": [
    "# CSCI E-7 Introduction to Programming with Python\n",
    "## Lecture 6. Text Processing\n",
    "### Reading: Downey Chapters 9 and 13\n",
    "![](06_fig/extension_school_logo.png)"
   ]
  },
  {
   "cell_type": "markdown",
   "metadata": {
    "slideshow": {
     "slide_type": "slide"
    }
   },
   "source": [
    "# Recap 1\n",
    "- Use <b>Function open()</b> Python's built in function: to open a file.  Returns a file object.\n",
    "- Use <b>with open(filename,'r') as fname:</b> to open and read a file\n",
    "- <b>Modes</b> indicate how the file is going to be opened:  \n",
    "r: open for reading (default)  \n",
    "r+: Opens a file for both reading and writing  \n",
    "w: open for writing, truncating the file first  \n",
    "a: append to the end of a file (instead of overwriting it)  \n",
    "Note: \n",
    "There are other modes (a,b, t, +):   \n",
    "https://docs.python.org/3/library/functions.html#open  \n",
    "- Use <b> Method close()</b> to close a file and free up any system resources taken up by the open file  \n",
    "\n",
    "\n"
   ]
  },
  {
   "cell_type": "markdown",
   "metadata": {},
   "source": [
    "![](06_images/keypoint.png) \n",
    "-What is a File Object?  Downey: **A value that represents an open file.**  \n",
    "-File object has several methods for reading data.  \n",
    "\n",
    "-open() is most commonly used with two arguments: open(filename, mode)\n",
    "- When opening a file for **read only** you do not have to specify mode= 'r' since it is the default.  Example: file_obj = open(\"short.fasta\")  \n",
    "-  If you’re NOT using the **with** keyword then you should call fileobject.close() to close the file and immediately free up any system resources used by it.\n",
    "- When a file operation fails for an I/O-related reason, an exception IOError is raised.  "
   ]
  },
  {
   "cell_type": "markdown",
   "metadata": {},
   "source": [
    "# Recap 2\n",
    "- Use Method: <b>fileObject.read(bytesize)</b> to read the entire file or a portion by declaring byte size.\n",
    "- Use Method: <b>fileObject.readline()</b> to read one entire line from the file.  Returns: a String. Note: A trailing newline character is kept in the string.   \n",
    "- Use <b>for loop or while loop</b> to iterate over data in the file.\n",
    "- Use Method. <b>str.strip()</b> to split a string by leading or trailing 'padding' characters.  Whitespace characters (' ','\\t','n\\').  Returns: a List of strings.  \n",
    "- Use <b>try: exception</b> to provide descriptive error messages.   "
   ]
  },
  {
   "cell_type": "markdown",
   "metadata": {},
   "source": [
    "![](06_images/keypoint.png)\n",
    "-A file object keeps track of where it is in the file.  \n",
    "-The string returned by readline will contain the **newline character '\\n'** at the end of the file.  \n",
    "**Important:** An empty string is returned only when EOF is encountered immediately.    \n"
   ]
  },
  {
   "cell_type": "markdown",
   "metadata": {},
   "source": [
    "### Code Review from Lecture 5:###"
   ]
  },
  {
   "cell_type": "code",
   "execution_count": null,
   "metadata": {},
   "outputs": [],
   "source": [
    "# Write program to count the DNA bases.\n",
    "with open('short.fasta', 'r') as input_file:\n",
    "    for line in input_file:\n",
    "        print(line)"
   ]
  },
  {
   "cell_type": "markdown",
   "metadata": {},
   "source": [
    "**Same code as above but leave off r mode in open()**"
   ]
  },
  {
   "cell_type": "code",
   "execution_count": null,
   "metadata": {},
   "outputs": [],
   "source": [
    "# From Lecture 5:\n",
    "# Write program to count the DNA bases.\n",
    "with open('short.fasta') as input_file:  #Note: default mode=r is left off\n",
    "    for line in input_file: \n",
    "        print(line)"
   ]
  },
  {
   "cell_type": "markdown",
   "metadata": {},
   "source": [
    "**Count all the chars in the DNA sequence in all lines.  Skip reading the header.**"
   ]
  },
  {
   "cell_type": "code",
   "execution_count": null,
   "metadata": {},
   "outputs": [],
   "source": [
    "# From Lecture 5:\n",
    "# Counts all the chars in the DNA sequence.\n",
    "\n",
    "with open('short.fasta', 'r') as input_file:\n",
    "    \n",
    "    # skip first line of file        \n",
    "    input_file.readline()  # Useful for skipping headers in files\n",
    "    \n",
    "    # Read the content of file\n",
    "    data = input_file.read()\n",
    "    print(data)\n",
    "\n",
    "    # Get the length of all chars\n",
    "    no_of_chars = len(data)\n",
    "\n",
    "print('Count of all chars=',no_of_chars)"
   ]
  },
  {
   "cell_type": "markdown",
   "metadata": {},
   "source": [
    "**Remove the end of line character in all lines** "
   ]
  },
  {
   "cell_type": "code",
   "execution_count": null,
   "metadata": {},
   "outputs": [],
   "source": [
    "count = 0\n",
    "with open('short.fasta') as input_file:\n",
    "   # skip first line of file \n",
    "   input_file.readline()\n",
    "     \n",
    "   for line in input_file:\n",
    "      print(line)\n",
    "      for ch in line.rstrip('\\n'):\n",
    "        count = count + 1\n",
    "        \n",
    "print('Count of all chars= ',count)"
   ]
  },
  {
   "cell_type": "markdown",
   "metadata": {},
   "source": [
    "**Data is stored in a List in the next 2 examples.  Usage: Method str.split()**"
   ]
  },
  {
   "cell_type": "code",
   "execution_count": null,
   "metadata": {},
   "outputs": [],
   "source": [
    "count=0\n",
    "with open('short.fasta') as input_file:\n",
    "    input_file.readline() # skip the first line\n",
    "    for line in input_file:\n",
    "        print(line)  # this is a string\n",
    "        words = line.split()  # puts the string into a list \n",
    "        print(words)\n",
    "        for ch in line:\n",
    "               count=count+1\n",
    "            \n",
    "print('Count of all chars= ',count)    "
   ]
  },
  {
   "cell_type": "code",
   "execution_count": null,
   "metadata": {},
   "outputs": [],
   "source": [
    "count=0\n",
    "with open('short.fasta') as input_file:\n",
    "    input_file.readline() # skip the first line\n",
    "    for line in input_file:\n",
    "        words = line.split()\n",
    "        print(words)\n",
    "        for ch in line:\n",
    "            if ch not in '\\n':\n",
    "               count=count+1\n",
    "            \n",
    "print('Count of all chars= ',count)    "
   ]
  },
  {
   "cell_type": "markdown",
   "metadata": {},
   "source": [
    "![](06_images/keypoint.png)\n",
    "  \n",
    "- Always view the contents of your data file before working with data.  \n",
    "- If you use read() and the file is very large it will be stored in memory and use up resources.  Remember to close files if you use open().  The exception is if you use <b>with</b>. \n",
    "- Pay attention to headers in a file as they generally will be descriptive of each data field in the file.\n",
    "- Skip reading the first line of your header if it is non-essential in your text processing.\n",
    "- The last line of your data file may not contain a newline. Our fasta files do not.  BUT in practice... it is good style to always put the newline as a last character if it is allowed by the file format.  "
   ]
  },
  {
   "cell_type": "code",
   "execution_count": null,
   "metadata": {},
   "outputs": [],
   "source": [
    "fasta_dir= 'C:/Users/Owner/Documents/diane/Harvard/Spring2020Pythoncourse/Lecture 05/short.fasta'\n",
    "with open(fasta_dir) as input_file:  #Note: default mode=r is left off\n",
    "    for line in input_file: \n",
    "        print(line)"
   ]
  },
  {
   "cell_type": "markdown",
   "metadata": {},
   "source": [
    "![](06_images/keypoint.png)\n",
    "**Reading files from different directories.**    \n",
    "The code examples we have used assume the fasta data files are stored in the same directory as your notebook.    \n",
    "Sometimes you may want to open a data file from a different directory.  \n",
    "\n",
    "In <b>Windows</b> your paths will be of the following format:       data_dir='C:\\Users\\Owner\\Documents\\diane\\Harvard\\Spring2020Pythoncourse\\Lecture 05\\short.fasta' You will need to use the <b>forward slash</b> for Python.    \n",
    "Example: fasta_dir= 'C:/Users/Owner/Documents/diane/Harvard/Spring2020Pythoncourse/Lecture 05/short.fasta'"
   ]
  },
  {
   "cell_type": "markdown",
   "metadata": {},
   "source": [
    "### Part 1 Textual Processing: Strings  \n",
    "Python Documentation: https://docs.python.org/3/library/stdtypes.html#textseq  \n",
    "Textual data in Python is handled with str objects, or strings. Strings are immutable sequences of Unicode code points. String literals:  \n",
    "\n",
    "Single quotes: 'allows embedded \"double\" quotes'  \n",
    "\n",
    "Double quotes: \"allows embedded 'single' quotes\".  \n",
    "\n",
    "Triple quoted: '''Three single quotes''', \"\"\"Three double quotes\"\"\"  \n"
   ]
  },
  {
   "cell_type": "markdown",
   "metadata": {},
   "source": [
    "**str()**    \n",
    "**Usage:**  \n",
    "class str(object='')  \n",
    "Returns a string containing a printable representation of an **object**.  if obj is not specified returns an empty string. The encoding of the given object default is UTF-8b.        "
   ]
  },
  {
   "cell_type": "markdown",
   "metadata": {},
   "source": [
    "**String Examples**"
   ]
  },
  {
   "cell_type": "code",
   "execution_count": null,
   "metadata": {},
   "outputs": [],
   "source": [
    "mystring=str('A small text sentence.')\n",
    "str1 =str(311040)\n",
    "str2 = str(1.0e4)\n",
    "str3 = str(True)  \n",
    "color = 'blue'  # Use either double or single quotes\n",
    "sentence = \"Today is Monday.\\n The weather is sunny.\\n It\\'s in the 60s.\"\n",
    "print(mystring)\n",
    "print(str1)\n",
    "print(str2)\n",
    "print(str3)\n",
    "print(color)\n",
    "print(sentence)"
   ]
  },
  {
   "cell_type": "markdown",
   "metadata": {},
   "source": [
    "**Check data types**"
   ]
  },
  {
   "cell_type": "code",
   "execution_count": null,
   "metadata": {},
   "outputs": [],
   "source": [
    "value = str(253./2.)\n",
    "value\n",
    "print(value)\n",
    "print(type(value))"
   ]
  },
  {
   "cell_type": "code",
   "execution_count": null,
   "metadata": {},
   "outputs": [],
   "source": [
    "#Check if a variable contains a value that is a string, use the isinstance built-in function.\n",
    "#The isinstance function takes two arguments. The first is your variable. The second is the type you want to check for.\n",
    "print(isinstance(value, int))\n",
    "print(isinstance(value, float))\n",
    "print(isinstance(value, list))\n",
    "print(isinstance(value, str))"
   ]
  },
  {
   "cell_type": "code",
   "execution_count": null,
   "metadata": {},
   "outputs": [],
   "source": [
    "print(float(value))\n",
    "print(type(float(value)))"
   ]
  },
  {
   "cell_type": "markdown",
   "metadata": {},
   "source": [
    "![](06_images/keypoint.png)\n",
    "Pay attention to the data types you are using.  This will avoid mismatch data type errors.   \n",
    "**Use:**    \n",
    "type(nameofvariable)   \n",
    "isinstance - to check type of a variable.  Returns: True / False  \n",
    "PyCharm: code will be displayed as: a = {int} 7.   "
   ]
  },
  {
   "cell_type": "markdown",
   "metadata": {},
   "source": [
    "**String Methods:**  \n",
    "https://docs.python.org/3/library/stdtypes.html#string-methods  \n",
    "https://www.w3schools.com/python/python_ref_string.asp  "
   ]
  },
  {
   "cell_type": "markdown",
   "metadata": {},
   "source": [
    "\n",
    "| Method | Description |\n",
    "| :----- | :---------- |\n",
    "| **capitalize()** |Converts the first character to upper case |     \n",
    "| **casefold()**\t|Converts string into lower case |    \n",
    "| **center()** | Returns a centered string |  \n",
    "| **count()** | Returns the number of times a specified value occurs in a string |  \n",
    "|**encode()** | Returns an encoded version of the string |  \n",
    "| **endswith()** |\tReturns true if the string ends with the specified value |\n",
    "| **expandtabs()** | Sets the tab size of the string |\n",
    "| **find()** | Searches the string for a specified value and returns the position of where it was found |\n",
    "| **format()** | Formats specified values in a string |  \n",
    "| **format_map()** | Formats specified values in a string |\n",
    "| **index()** |\tSearches the string for a specified value and returns the position of where it was found |\n",
    "| **isalnum()** | Returns True if all characters in the string are alphanumeric |\n",
    "| **isalpha()**\t| Returns True if all characters in the string are in the alphabet |\n",
    "| **isdecimal()** |\tReturns True if all characters in the string are decimals\n",
    "| **isdigit()** |\tReturns True if all characters in the string are digits |\n",
    "| **isidentifier()** |\tReturns True if the string is an identifier |\n",
    "| **islower()** |\tReturns True if all characters in the string are lower case |\n",
    "| **isnumeric()** |\tReturns True if all characters in the string are numeric |\n",
    "| **isprintable()** |\tReturns True if all characters in the string are printable |\n",
    "| **isspace()** |\tReturns True if all characters in the string are whitespaces | \n",
    "| **istitle()** |\tReturns True if the string follows the rules of a title |  \n",
    "| **isupper()** |\tReturns True if all characters in the string are upper case |\n",
    "| **join()** |\tJoins the elements of an iterable to the end of the string |\n",
    "| **ljust()** |\tReturns a left justified version of the string |\n",
    "| **lower()** |\tConverts a string into lower case |\n",
    "| **lstrip()** |\tReturns a left trim version of the string |\n",
    "| **maketrans()** |\tReturns a translation table to be used in translations |\n",
    "| **partition()** |\tReturns a tuple where the string is parted into three parts |\n",
    "| **replace()** |\tReturns a string where a specified value is replaced with a specified value |\n",
    "| **rfind()** |\tSearches the string for a specified value and returns the last position of where it was found |\n",
    "| **rindex()** |\tSearches the string for a specified value and returns the last position of where it was found |\n",
    "| **rjust()** |\tReturns a right justified version of the string |\n",
    "| **rpartition()** |\tReturns a tuple where the string is parted into three parts |\n",
    "| **rsplit()** |\tSplits the string at the specified separator, and returns a list |\n",
    "| **rstrip()** |\tReturns a right trim version of the string |\n",
    "| **split()** |\tSplits the string at the specified separator, and returns a list |\n",
    "| **splitlines()** |\tSplits the string at line breaks and returns a list |\n",
    "| **startswith()** |\tReturns true if the string starts with the specified value |\n",
    "| **strip()** |\tReturns a trimmed version of the string |\n",
    "| **swapcase()** |\tSwaps cases, lower case becomes upper case and vice versa |\n",
    "| **title()** |\tConverts the first character of each word to upper case |\n",
    "| **translate()** |\tReturns a translated string |\n",
    "| **zfill()** |\tFills the string with a specified number of 0 values at the beginning |"
   ]
  },
  {
   "cell_type": "markdown",
   "metadata": {},
   "source": [
    "**Common String Methods:**\n"
   ]
  },
  {
   "cell_type": "code",
   "execution_count": null,
   "metadata": {},
   "outputs": [],
   "source": [
    "#Check if string has all uppercase or lowercase\n",
    "color='Blue'\n",
    "print(\"'color' is lowercase: \", color.islower()) \n",
    "print(\"'color' is uppercase: \", color.isupper()) "
   ]
  },
  {
   "cell_type": "code",
   "execution_count": null,
   "metadata": {},
   "outputs": [],
   "source": [
    "name=\"benjamin\"\n",
    "print(name)\n",
    "name = name.upper()   #Convert string to all uppercase\n",
    "print(\"'name' is: \", name)\n",
    "print(\"Uppercase? \", name.isupper())\n",
    "name=name.lower().capitalize()   #Convert string to all lower and capitalize first letter\n",
    "print(name)\n",
    "name_cnt=name.count('n')\n",
    "print(name_cnt)"
   ]
  },
  {
   "cell_type": "code",
   "execution_count": null,
   "metadata": {},
   "outputs": [],
   "source": [
    "alpha='abcdefgjijklmnopqrstuvwxyz'  # Use isalpha rather than looping through this string \n",
    "string = 'AGCT1'\n",
    "print('Initial string: ',string)\n",
    "\n",
    "string1=string.lower()\n",
    "print('Lower case string: ',string1)\n",
    "\n",
    "string2=string.isalpha()\n",
    "print('Check if all characters in the string are in the alphabet:',string2)\n",
    "\n",
    "string3=string1.upper().isalnum()\n",
    "print('Convert to uppercase:',string1,' Check if alphanumeric:',string3)"
   ]
  },
  {
   "cell_type": "code",
   "execution_count": null,
   "metadata": {},
   "outputs": [],
   "source": [
    "#Returns a list\n",
    "seq_code1='AGCT,TTTC,ATTC,TGAC,TGCA,'\n",
    "seq_code2='AGCT TTTC ATTC TGAC TGCA'\n",
    "new_seq1=seq_code1.split(',')\n",
    "new_seq2=seq_code2.split(' ')\n",
    "print(new_seq1)\n",
    "print(new_seq2)"
   ]
  },
  {
   "cell_type": "code",
   "execution_count": null,
   "metadata": {},
   "outputs": [],
   "source": [
    "#View contents of file\n",
    "with open(\"brokensequences.csv\") as input_file:\n",
    "    file_contents = input_file.read()\n",
    "print(file_contents)"
   ]
  },
  {
   "cell_type": "markdown",
   "metadata": {
    "slideshow": {
     "slide_type": "slide"
    }
   },
   "source": [
    "- Biologists use text files in the Fasta format to store genetic data.\n",
    "- The first line of a Fasta file is a comment about the contents.\n",
    "- The rest of the file will be a sequence of lines with data.\n",
    "- DNA is described by strings of the letters A, C, G and T.\n",
    "- These strings represent the four bases that encode a genome.\n",
    "- Letters may be upper case or lower case.\n",
    "- **Note:** The following sequence file brokensequences.csv is also a popular format that data is stored in."
   ]
  },
  {
   "cell_type": "code",
   "execution_count": null,
   "metadata": {},
   "outputs": [],
   "source": [
    "with open('brokensequences.csv') as input_file:\n",
    "    input_file.readline() # skip the first line\n",
    "    for line in input_file:\n",
    "        word2 = line.upper().split(',')\n",
    "        print(word2)\n",
    "    #print(line)\n",
    "        "
   ]
  },
  {
   "cell_type": "code",
   "execution_count": null,
   "metadata": {},
   "outputs": [],
   "source": [
    "sequence_lst = []\n",
    "with open('brokensequences.csv') as input_file:\n",
    "    input_file.readline() # skip the first line\n",
    "    for line in input_file:\n",
    "        words = line.upper().split(',')\n",
    "        for word in words:\n",
    "            if word.isalpha():\n",
    "               sequence_lst.append(word)\n",
    "               allcodes_str=''.join(sequence_lst)\n",
    "    print('String of all data:',allcodes_str)\n",
    "    print('List of all data:',sequence_lst)\n",
    "        "
   ]
  },
  {
   "cell_type": "markdown",
   "metadata": {},
   "source": [
    "### Part 2 Textual Processing: Regular Expressions  \n",
    "Python documentation: \n",
    "https://docs.python.org/3.8/howto/regex.html  \n",
    "https://docs.python.org/3/library/re.html    \n",
    "-Both patterns and strings to be searched can be Unicode strings (str) as well as 8-bit strings (bytes).  \n",
    "-Regular expressions use the backslash character ('\\') to indicate special forms or to allow special characters to be used without invoking their special meaning.  "
   ]
  },
  {
   "cell_type": "markdown",
   "metadata": {},
   "source": [
    "**Usage: re module**  \n",
    "Contains many methods you can use."
   ]
  },
  {
   "cell_type": "code",
   "execution_count": null,
   "metadata": {},
   "outputs": [],
   "source": [
    "import re"
   ]
  },
  {
   "cell_type": "markdown",
   "metadata": {},
   "source": [
    "**Most Commonly used Methods:**  \n",
    "\n",
    "|Method | Description | Usage\n",
    "| :---- | :---------- | :----\n",
    "|findall | Returns a list containing all matches. | re.findall(pattern, string, flags=0)\n",
    "|match | Returns a list containing all matches. | re.match(pattern, string, flags=0)\n",
    "|search | Search for a string. | re.search(pattern, string, flags=0)\n",
    "|split | Break string into a sub string/s. | re.split(pattern, string, maxsplit=0, flags=0)\n",
    "|sub | Replace part of a string. | re.sub(pattern, repl, string, count=0, flags=0)"
   ]
  },
  {
   "cell_type": "markdown",
   "metadata": {},
   "source": [
    "![](06_images/keypoint.png)    \n",
    "  \n",
    "**re.split** is helpful when working with large textual data.  \n",
    "\n",
    "**Matching Versus Searching Key Differences**  \n",
    "-Both return first match of a substring found in the string.  \n",
    "**re.match** searches only in the first line of the string and returns match object if found.  Else returns None.        \n",
    "**re.search** checks for a match **anywhere** in the string.    \n",
    "-Both are very efficient and fast for searching in strings.   "
   ]
  },
  {
   "cell_type": "markdown",
   "metadata": {},
   "source": [
    "**Regular Expression examples:**"
   ]
  },
  {
   "cell_type": "code",
   "execution_count": null,
   "metadata": {},
   "outputs": [],
   "source": [
    "text = 'To be, or not to be, that is the question. By William Shakespeare'\n",
    "\n",
    "val=re.findall('be',text)\n",
    "print(val)\n",
    "print(type(val)) \n",
    "\n",
    "val=re.search('to be',text)\n",
    "# print('val=',val)\n",
    "if val:\n",
    "    print(val.groups)\n",
    "print(val)\n",
    "\n",
    "val=re.split('be',text)\n",
    "print(val)\n",
    "\n",
    "val=re.sub('be','have been',text)\n",
    "print(val)"
   ]
  },
  {
   "cell_type": "code",
   "execution_count": null,
   "metadata": {
    "scrolled": true
   },
   "outputs": [],
   "source": [
    "# Search for all matches of a word\n",
    "str = \"Benjamin Franklin said: If you would be loved, love, and be loveable\"\n",
    "fnd = re.match('Benjamin',str)\n",
    "print(fnd)\n",
    "\n",
    "if fnd:\n",
    "    print(fnd.groups)\n",
    "    \n",
    "fnd1 = re.match('would',str)\n",
    "if fnd1:\n",
    "    print(fnd1.groups)\n",
    "    \n",
    "x = re.findall(\"love\", str)\n",
    "print(x)\n",
    "\n",
    "x1 = re.findall(\"loved\", str)\n",
    "print(x1)\n",
    "\n",
    "x3 = re.findall(\"and be loveable\", str)\n",
    "print(x3)"
   ]
  },
  {
   "cell_type": "code",
   "execution_count": null,
   "metadata": {
    "slideshow": {
     "slide_type": "slide"
    }
   },
   "outputs": [],
   "source": [
    "# Replace part of a string with blank character.\n",
    "input_string = 'Box A contains 3 red and 5 white balls but Box B contains 4 red and 2 blue balls.'\n",
    "result = re.sub(r'\\d+', '', input_string)\n",
    "print(result)"
   ]
  },
  {
   "cell_type": "markdown",
   "metadata": {},
   "source": [
    "**For Pattern Matching:**"
   ]
  },
  {
   "cell_type": "markdown",
   "metadata": {},
   "source": [
    "**Metacharacters** are used for specifying a character class which is a set of characters that you wish to match.\n",
    "\n",
    "<table style=\"width:100%\" align=\"left\">\n",
    "  <tr align=\"left\">\n",
    "    <th>Character</th>\n",
    "    <th>Description</th>\n",
    "    <th>Example</th>\n",
    "  </tr>\n",
    "  <tr align=\"left\">\n",
    "    <td><b>[]</b></td>\n",
    "    <td>A set of characters</td>\n",
    "    <td>[a-m]</td>\n",
    "  </tr>\n",
    "  <tr align=\"left\">\n",
    "    <td><b>\\</b></td>\n",
    "    <td>A special sequence (also used to escape special characters)</td>\n",
    "    <td>\"\\d\"</td>\n",
    "  </tr>\n",
    "  <tr align=\"left\">\n",
    "    <td><b>.</b></td>\n",
    "    <td>Any character (except newline character)</td>\n",
    "    <td>\"he..o\" </td>\n",
    "  </tr>\n",
    "  <tr align=\"left\">\n",
    "    <td><b>^</b></td>\n",
    "    <td>Starts with</td>\n",
    "    <td>\"^hello\"</td>\n",
    "  </tr>\n",
    "  <tr align=\"left\">\n",
    "    <td><b>dollar sign</b></td>\n",
    "    <td>Ends with</td>\n",
    "    <td>\"goodbye$\"</td>\n",
    "  </tr>\n",
    "  <tr align=\"left\">\n",
    "    <td><b>*</b></td>\n",
    "    <td>Zero or more occurences.</td>\n",
    "    <td>aix* or *aix</td>\n",
    "  </tr>\n",
    "  <tr align=\"left\">\n",
    "    <td><b>+</b></td>\n",
    "    <td>One or more occurences</td>\n",
    "    <td>aix+</td>\n",
    "  </tr>\n",
    "  <tr align=\"left\">\n",
    "    <td><b>{}</b></td>\n",
    "    <td>Exactly the specified number of occurrences</td>\n",
    "    <td>al{2}</td>\n",
    "  </tr>\n",
    "  <tr align=\"left\">\n",
    "    <td><b>|</b></td>\n",
    "    <td>Either or</td>\n",
    "    <td>falls|stays</td>\n",
    "  </tr>\n",
    "   <tr align=\"left\">\n",
    "    <td><b>()</b></td>\n",
    "    <td>Capture and group</td>\n",
    "    <td></td>\n",
    "  </tr>\n",
    "</table>\n",
    "\n"
   ]
  },
  {
   "cell_type": "markdown",
   "metadata": {},
   "source": [
    "**Useful Regular Expression patterns:**  \n",
    "[aeiouAEIOU] matches vowels  \n",
    "[^aeiouAEIOU] matches non-vowels  \n",
    "[0-9a-zA-Z] matches numbers, lower and uppercase vowels  "
   ]
  },
  {
   "cell_type": "markdown",
   "metadata": {},
   "source": [
    "**Sequences**  \n",
    "A special sequence is a '\\' followed by one of the characters below:\n",
    "\n",
    "| Character\t| Description\t| Usage  \n",
    "| :-------- | :----------   | :------  \n",
    "| \\A | Returns a match if the specified characters are at the beginning of the string |\t\"\\A The\"\t\n",
    "| \\b |\tReturns a match where the specified characters are at the beginning or at the end of a word |\tr\"\\bain\" r\"ain\\b\"\t\n",
    "| \\B |\tReturns a match where the specified characters are present, but NOT at the beginning (or at the end) of a word\t| r\"\\Bain\" r\"ain\\B\"\t\n",
    "| \\d |\tReturns a match where the string contains digits (numbers from 0-9) |\t\"\\d\"\t\n",
    "| \\D |\tReturns a match where the string DOES NOT contain digits |\t\"\\D\"\t\n",
    "| \\s |\tReturns a match where the string contains a white space character |\t\"\\s\"\t\n",
    "| \\S |\tReturns a match where the string DOES NOT contain a white space character |\t\"\\S\"\t\n",
    "| \\w |\tReturns a match where the string contains any word characters (characters from a to Z, digits from 0-9, and the underscore _ character) |\t\"\\w\"\t\n",
    "| \\W |\tReturns a match where the string DOES NOT contain any word characters |\t\"\\W\"\t\n",
    "| \\Z |\tReturns a match if the specified characters are at the end of the string |\t\"\\Z\""
   ]
  },
  {
   "cell_type": "code",
   "execution_count": null,
   "metadata": {},
   "outputs": [],
   "source": [
    "str1 = \"I really prefer a 1/2 tbsp of sugar rather than 1 tbsp.\"\n",
    "\n",
    "#Check if the string contains any digits (numbers from 0-9)\n",
    "x = re.findall(\"\\d\", str1)\n",
    "print(x)"
   ]
  },
  {
   "cell_type": "code",
   "execution_count": null,
   "metadata": {},
   "outputs": [],
   "source": [
    "#Below will find 1/ ... can you figure it out?\n",
    "\n",
    "str1 = \"I really prefer a 1/2 tbsp of sugar rather than 1 tbsp.\"\n",
    "find = '\\d/'\n",
    "x1 = re.findall(find, str1)\n",
    "print(x1)"
   ]
  },
  {
   "cell_type": "code",
   "execution_count": null,
   "metadata": {},
   "outputs": [],
   "source": [
    "# Social security number: 123-45-6789\n",
    "# \\d Digit [0-9]\n",
    "# Include a count {3}\n",
    "soc_sec_no = '123-45-6789'\n",
    "if re.search(\"\\d{3}-\\d{2}-\\d{4}\",soc_sec_no):\n",
    "   print('valid') # Found legal SS#"
   ]
  },
  {
   "cell_type": "code",
   "execution_count": null,
   "metadata": {},
   "outputs": [],
   "source": [
    "# Using negate with ^  [^aeou]\n",
    "#  ^ to anchor the start\n",
    "str1 = 'put the pot upon the spit'\n",
    "m = re.findall('p[^aeou]t', str1)\n",
    "print(m)"
   ]
  },
  {
   "cell_type": "markdown",
   "metadata": {},
   "source": [
    "![](06_images/keypoint.png)  \n",
    "When creating complicated patterns put them in a table.    \n",
    "See next cell."
   ]
  },
  {
   "cell_type": "code",
   "execution_count": null,
   "metadata": {},
   "outputs": [],
   "source": [
    "#pattern = '^[A-Z]\\w+,?\\s*[A-Z]$'    \n",
    "#^     Start of string      \n",
    "#[A-Z] One upper case letter      \n",
    "#\\w+   One or more alphanumeric      \n",
    "#,?    Optional comma      \n",
    "#\\s*   Zero or more white space    \n",
    "#[A-Z] One upper case letter    \n",
    "#$     End of string    "
   ]
  },
  {
   "cell_type": "code",
   "execution_count": null,
   "metadata": {},
   "outputs": [],
   "source": [
    "#Notice what happens with the $ character.  This is due to $ forcing an end\n",
    "#after Spain.  Since our string doesn't end at Spain it returns None.\n",
    "\n",
    "txt = \"The rain in Spain always falls on the plain.\"\n",
    "x1 = re.search(\"^The.*Spain$\", txt)\n",
    "print(x1)"
   ]
  },
  {
   "cell_type": "code",
   "execution_count": null,
   "metadata": {},
   "outputs": [],
   "source": [
    "# Find all email addresses in string.  \n",
    "\n",
    "line = \"Email addresses: asbfal2@als.com, Users1@gmail.de and another: Dariush@dasd-asasdsa.com.lo,Dariush.lastName@someDomain.com\"\n",
    "\n",
    "match2 = re.findall(r'[\\w\\.-]+@[\\w\\.-]+', line)\n",
    "print(match2)"
   ]
  },
  {
   "cell_type": "code",
   "execution_count": null,
   "metadata": {},
   "outputs": [],
   "source": [
    "#An example using split.\n",
    "#Separate by split a string into individual words by spaces, commas and periods\n",
    "match_reg=\" |(?<![0-9])[.,](?![0-9])\"\n",
    "oddstring = \"one two 3.4 5,6 seven.eight nine,ten,1.2,a,5\"\n",
    "print(oddstring)\n",
    "newstring=re.split(match_reg, oddstring)\n",
    "print('New string=',newstring)"
   ]
  },
  {
   "cell_type": "code",
   "execution_count": null,
   "metadata": {},
   "outputs": [],
   "source": [
    "# Sample strings.\n",
    "list = [\"dog dot\", \"do don't\", \"eric donna\", \"do-nut\", \"no match\",\"Door don't\"]\n",
    "\n",
    "for element in list:\n",
    "    # Match if two words start with letter d.\n",
    "    m = re.match(\"(d\\w+)\\W(d\\w+)\", element,re.IGNORECASE)\n",
    "\n",
    "#Pattern: (d\\w+)\\W(d\\w+)\n",
    "#d        Lowercase letter d.\n",
    "#\\w+      One or more word characters.\n",
    "#\\W       A non-word character.\n",
    "\n",
    "    # Check if successful\n",
    "    if m:\n",
    "        print(m.groups())\n",
    "#Notice the don't didn't catch the t.  How would you fix this?"
   ]
  },
  {
   "cell_type": "code",
   "execution_count": null,
   "metadata": {},
   "outputs": [],
   "source": [
    "#An example using split.\n",
    "#Separate by split a string into individual words by spaces, commas and periods\n",
    "match_reg=\" |(?<![0-9])[.,](?![0-9])\"\n",
    "oddstring = \"one two 3.4 5,6 seven.eight nine,ten,1.2,a,5\"\n",
    "print(oddstring)\n",
    "list1=re.split(match_reg, oddstring)\n",
    "#print(type(newstring))\n",
    "print('List=',list1)"
   ]
  },
  {
   "cell_type": "code",
   "execution_count": null,
   "metadata": {},
   "outputs": [],
   "source": [
    "#Another example using re.split\n",
    "value = \"one 1 two 2 three 3\"\n",
    "\n",
    "# Separate on one or more non-digit characters!\n",
    "#Usage Pattern: \\D+\n",
    "#\\D+One or more non-digit characters.\n",
    "result = re.split(\"\\D+\", value)\n",
    "\n",
    "# Print results.\n",
    "for element in result:\n",
    "    print(element)\n"
   ]
  },
  {
   "cell_type": "markdown",
   "metadata": {},
   "source": [
    "![](06_images/keypoint.png)\n",
    "When working with string data in text files pre-process ('clean') data using String Methods and Regular Expressions.  \n",
    "1.  Create a table of your patterns. \n",
    "2.  Check  your regular expressions:  \n",
    "https://pythex.org/  \n",
    "\n",
    "Great summary Cheat sheet:    \n",
    "https://www.dataquest.io/wp-content/uploads/2019/03/python-regular-expressions-cheat-sheet.pdf  "
   ]
  }
 ],
 "metadata": {
  "celltoolbar": "Slideshow",
  "kernelspec": {
   "display_name": "Python 3",
   "language": "python",
   "name": "python3"
  },
  "language_info": {
   "codemirror_mode": {
    "name": "ipython",
    "version": 3
   },
   "file_extension": ".py",
   "mimetype": "text/x-python",
   "name": "python",
   "nbconvert_exporter": "python",
   "pygments_lexer": "ipython3",
   "version": "3.7.6"
  }
 },
 "nbformat": 4,
 "nbformat_minor": 2
}
